{
 "cells": [
  {
   "cell_type": "code",
   "execution_count": 179,
   "id": "f976d6c3-f85b-4a14-b8bb-fdbe631322a5",
   "metadata": {},
   "outputs": [
    {
     "name": "stdout",
     "output_type": "stream",
     "text": [
      "生成的数据集前5行:\n",
      "   房屋ID  地区  房龄   建筑面积  卧室数量 是否有电梯   楼层  地铁距离(米)  学校评分  单价(元/平米)     上次交易日期\n",
      "0     1  东城  15  107.0   4.0     有  nan     1565   7.0   55779.0 2022-03-15\n",
      "1     2  丰台  13   63.8   1.0     有  nan      699   NaN   35030.0 2022-06-12\n",
      "2     3  西城   1   72.6   1.0     无   高层     1880   7.0   59907.0 2020-05-18\n",
      "3     4  丰台  25   79.9   4.0     有   中层      710   8.0   66047.0 2021-05-25\n",
      "4     5  丰台   7   63.8   1.0   nan  nan      416   7.0   76840.0 2022-05-17\n"
     ]
    }
   ],
   "source": [
    "import pandas as pd\n",
    "import numpy as np\n",
    "\n",
    "# 生成模拟数据\n",
    "np.random.seed(42)\n",
    "num_samples = 100\n",
    "\n",
    "data = {\n",
    "    '房屋ID': range(1, num_samples+1),\n",
    "    '地区': np.random.choice(['朝阳', '海淀', '西城', '东城', '丰台', '昌平'], size=num_samples),\n",
    "    '房龄': np.random.randint(1, 30, size=num_samples),\n",
    "    '建筑面积': np.random.normal(90, 20, size=num_samples).round(1),\n",
    "    '卧室数量': np.random.randint(1, 5, size=num_samples),\n",
    "    '是否有电梯': np.random.choice(['有', '无', np.nan], size=num_samples, p=[0.6, 0.3, 0.1]),\n",
    "    '楼层': np.random.choice(['低层', '中层', '高层', np.nan], size=num_samples),\n",
    "    '地铁距离(米)': np.random.randint(200, 3000, size=num_samples),\n",
    "    '学校评分': np.random.choice([7.0, 8.0, 8.5, 9.0, 9.5, np.nan], size=num_samples),\n",
    "    '单价(元/平米)': np.random.normal(60000, 15000, size=num_samples).round(0),\n",
    "    '上次交易日期': pd.to_datetime('2020-01-01') + pd.to_timedelta(np.random.randint(0, 1000, size=num_samples), unit='D')\n",
    "}\n",
    "\n",
    "df = pd.DataFrame(data)\n",
    "# 故意添加一些缺失值和异常值\n",
    "# 添加缺失值\n",
    "df.loc[10:15, '建筑面积'] = np.nan\n",
    "df.loc[20:25, '卧室数量'] = np.nan\n",
    "df.loc[30:35, '单价(元/平米)'] = np.nan\n",
    "\n",
    "# 添加一些异常值\n",
    "df.loc[5, '建筑面积'] = 500  # 异常大的面积\n",
    "df.loc[6, '房龄'] = 100     # 异常大的房龄\n",
    "df.loc[7, '单价(元/平米)'] = 1000  # 异常低的单价\n",
    "df.loc[8, '单价(元/平米)'] = 200000 # 异常高的单价\n",
    "\n",
    "# 添加一些不一致的数据\n",
    "df.loc[50:55, '是否有电梯'] = 'Yes'  # 应该是'有'而不是'Yes'\n",
    "df.loc[60:65, '地区'] = 'Chaoyang'  # 拼音而不是中文\n",
    "\n",
    "# 添加一些重复数据\n",
    "df = pd.concat([df, df.sample(5)], ignore_index=True)\n",
    "\n",
    "print(\"生成的数据集前5行:\")\n",
    "print(df.head())#生成前5行\n",
    "\n",
    "# 可以保存到CSV供练习使用\n",
    "df.to_csv('house_price_raw_data.csv', index=False, encoding='utf-8-sig')"
   ]
  },
  {
   "cell_type": "code",
   "execution_count": 181,
   "id": "46142ff7-6bf4-4fa7-a48a-70af3b06fbca",
   "metadata": {},
   "outputs": [
    {
     "name": "stdout",
     "output_type": "stream",
     "text": [
      "          缺失数量       缺失比例\n",
      "房屋ID         0   0.000000\n",
      "地区           0   0.000000\n",
      "房龄           0   0.000000\n",
      "建筑面积         6   5.714286\n",
      "卧室数量         6   5.714286\n",
      "是否有电梯        0   0.000000\n",
      "楼层           0   0.000000\n",
      "地铁距离(米)      0   0.000000\n",
      "学校评分        18  17.142857\n",
      "单价(元/平米)     8   7.619048\n",
      "上次交易日期       0   0.000000\n"
     ]
    }
   ],
   "source": [
    "# 查看每列缺失值数量和比例\n",
    "missing_data = df.isnull().sum()#所有缺失值相加\n",
    "missing_percent = (df.isnull().sum() / len(df)) * 100#百分比\n",
    "missing_info = pd.concat([missing_data, missing_percent], axis=1, keys=['缺失数量', '缺失比例'])#纵轴是两个\n",
    "print(missing_info)"
   ]
  },
  {
   "cell_type": "code",
   "execution_count": 183,
   "id": "347b1055-d6cb-43ee-b326-4d56c94ff639",
   "metadata": {},
   "outputs": [],
   "source": [
    "#填充用fillan()\n",
    "# 对建筑面积用中位数填充 median()\n",
    "median_area = df['建筑面积'].median()\n",
    "df['建筑面积'] = df['建筑面积'].fillna(median_area)\n",
    "# 对卧室数量用众数填充 mode()[0]\n",
    "bedroom_mode = df['卧室数量'].mode()[0]\n",
    "df['卧室数量'] = df['卧室数量'].fillna(bedroom_mode)\n",
    "\n",
    "# 对单价用均值填充 mean()\n",
    "mean_price = df['单价(元/平米)'].mean()\n",
    "df['单价(元/平米)'] = df['单价(元/平米)'].fillna(mean_price)"
   ]
  },
  {
   "cell_type": "code",
   "execution_count": 213,
   "id": "bed09a0d-8377-4208-b2e7-1abf216c63e6",
   "metadata": {},
   "outputs": [],
   "source": [
    "# 对是否有电梯用众数填充\n",
    "elevator_mode = df['是否有电梯'].mode()[0]\n",
    "df['是否有电梯'] = df['是否有电梯'].fillna(elevator_mode)\n",
    "\n",
    "# 对楼层用\"未知\"填充\n",
    "df['楼层'] = df['楼层'].fillna('未知')\n",
    "\n",
    "# 对学校评分用中位数填充\n",
    "school_median = df['学校评分'].median()\n",
    "df['学校评分'] = df['学校评分'].fillna(school_median)"
   ]
  },
  {
   "cell_type": "code",
   "execution_count": 187,
   "id": "31182b1e-a655-499f-acd4-1c05517d032b",
   "metadata": {},
   "outputs": [],
   "source": [
    "# 对是否有电梯用众数填充\n",
    "elevator_mode = df['是否有电梯'].mode()[0]\n",
    "df['是否有电梯'] = df['是否有电梯'].fillna(elevator_mode)\n",
    "\n",
    "# 对楼层用\"未知\"填充\n",
    "df['楼层'] = df['楼层'].fillna('未知')\n",
    "\n",
    "# 对学校评分用中位数填充\n",
    "school_median = df['学校评分'].median()\n",
    "df['学校评分'] = df['学校评分'].fillna(school_median)"
   ]
  },
  {
   "cell_type": "code",
   "execution_count": 189,
   "id": "70a82982-ba70-47c1-bb53-0533ad74c5eb",
   "metadata": {},
   "outputs": [],
   "source": [
    "# 定义识别异常值的函数 判断方法用3σ原则 x-μ/σ\n",
    "#当使用布尔 Series 筛选 DataFrame 时 True：保留该行 False：过滤掉该行\n",
    "def detect_outliers(series, threshold=2.5):\n",
    "    z_scores = (series - series.mean()) / series.std()\n",
    "    return np.abs(z_scores) > threshold"
   ]
  },
  {
   "cell_type": "code",
   "execution_count": 191,
   "id": "d8e94262-e392-4651-b96f-27380963b73a",
   "metadata": {},
   "outputs": [
    {
     "name": "stdout",
     "output_type": "stream",
     "text": [
      "建筑面积异常值:\n",
      " 5    500.0\n",
      "Name: 建筑面积, dtype: float64\n",
      "房龄异常值:\n",
      " 6    100\n",
      "Name: 房龄, dtype: int32\n",
      "单价异常值:\n",
      " 7      1000.0\n",
      "8    200000.0\n",
      "Name: 单价(元/平米), dtype: float64\n"
     ]
    }
   ],
   "source": [
    "# 检查建筑面积异常值\n",
    "area_outliers = detect_outliers(df['建筑面积'])\n",
    "print(\"建筑面积异常值:\\n\", df[area_outliers]['建筑面积'])\n",
    "\n",
    "# 检查房龄异常值\n",
    "age_outliers = detect_outliers(df['房龄'])\n",
    "print(\"房龄异常值:\\n\", df[age_outliers]['房龄'])\n",
    "\n",
    "# 检查单价异常值\n",
    "price_outliers = detect_outliers(df['单价(元/平米)'])\n",
    "print(\"单价异常值:\\n\", df[price_outliers]['单价(元/平米)'])"
   ]
  },
  {
   "cell_type": "code",
   "execution_count": 193,
   "id": "7eda5e53-1f45-40c7-a68f-0ed1bdd11e84",
   "metadata": {},
   "outputs": [],
   "source": [
    "# 方法1: 用上下限替换异常值\n",
    "def cap_outliers(series, threshold=2.5):\n",
    "    mean = series.mean()#计算均值\n",
    "    std = series.std()#计算标准差\n",
    "    upper = mean + threshold * std#计算上限μ+3σ\n",
    "    lower = mean - threshold * std#计算下限μ-3σ\n",
    "    return series.clip(lower, upper) # 将超出上下限的值替换为边界值进行 裁剪小于lower的变为lower 大于upper的变为upper\n",
    "\n",
    "df['建筑面积'] = cap_outliers(df['建筑面积'])\n",
    "df['房龄'] = cap_outliers(df['房龄'])\n",
    "df['单价(元/平米)'] = cap_outliers(df['单价(元/平米)'])\n",
    "\n",
    "# 方法2: 删除异常值行\n",
    "# df = df[~area_outliers]\n",
    "# df = df[~age_outliers]\n",
    "# df = df[~price_outliers]"
   ]
  },
  {
   "cell_type": "code",
   "execution_count": 195,
   "id": "a27bd9d0-fd6a-4f55-9e5e-3ce8211be0ee",
   "metadata": {},
   "outputs": [],
   "source": [
    "#统一英文转为汉字\n",
    "df['是否有电梯'] = df['是否有电梯'].replace({'Yes': '有', 'yes': '有', 'No': '无', 'no': '无'})\n",
    "df['是否有电梯'] = df['是否有电梯'].str.replace(' ', '')  # 去除空格\n",
    "df['地区'] = df['地区'].replace({\n",
    "    'Chaoyang': '朝阳',\n",
    "    'Haidian': '海淀',\n",
    "    'Xicheng': '西城',\n",
    "    'Dongcheng': '东城',\n",
    "    'Fengtai': '丰台',\n",
    "    'Changping': '昌平'\n",
    "})"
   ]
  },
  {
   "cell_type": "code",
   "execution_count": 197,
   "id": "2dbfcc69-31f2-4984-a698-49d62bd73322",
   "metadata": {},
   "outputs": [
    {
     "name": "stdout",
     "output_type": "stream",
     "text": [
      "重复行:\n",
      "      房屋ID  地区    房龄   建筑面积  卧室数量 是否有电梯   楼层  地铁距离(米)  学校评分      单价(元/平米)  \\\n",
      "2       3  西城   1.0   72.6   1.0     无   高层     1880   7.0  59907.000000   \n",
      "31     32  海淀  16.0  118.0   4.0     有  nan      389   8.0  58843.731959   \n",
      "33     34  东城  23.0   94.3   4.0     有   高层     1414   8.5  58843.731959   \n",
      "48     49  朝阳   1.0  115.0   2.0     有  nan      402   9.0  44081.000000   \n",
      "68     69  海淀   5.0  101.3   4.0     有   低层     1231   9.5  60415.000000   \n",
      "100    49  朝阳   1.0  115.0   2.0     有  nan      402   9.0  44081.000000   \n",
      "101    34  东城  23.0   94.3   4.0     有   高层     1414   8.5  58843.731959   \n",
      "102     3  西城   1.0   72.6   1.0     无   高层     1880   7.0  59907.000000   \n",
      "103    32  海淀  16.0  118.0   4.0     有  nan      389   8.0  58843.731959   \n",
      "104    69  海淀   5.0  101.3   4.0     有   低层     1231   9.5  60415.000000   \n",
      "\n",
      "        上次交易日期  \n",
      "2   2020-05-18  \n",
      "31  2021-08-28  \n",
      "33  2022-03-27  \n",
      "48  2021-05-27  \n",
      "68  2020-03-18  \n",
      "100 2021-05-27  \n",
      "101 2022-03-27  \n",
      "102 2020-05-18  \n",
      "103 2021-08-28  \n",
      "104 2020-03-18  \n"
     ]
    }
   ],
   "source": [
    "# 检查完全重复的行\n",
    "duplicates = df[df.duplicated(keep=False)]\n",
    "#默认 keep='first'：标记除第一次出现外的重复行。\n",
    "#keep=False：标记所有重复行（包括第一次出现的行）\n",
    "#是一个用于标识数据帧中重复行的方法。它返回一个布尔序列，指示每一行是否为重复行\n",
    "print(\"重复行:\\n\", duplicates)"
   ]
  },
  {
   "cell_type": "code",
   "execution_count": 199,
   "id": "8f93c223-770e-4502-8082-221e6bff1561",
   "metadata": {},
   "outputs": [],
   "source": [
    "# 删除重复行，保留第一个出现的\n",
    "df = df.drop_duplicates(keep='first')\n",
    "\n",
    "# 检查基于关键列的重复(如房屋ID)\n",
    "df = df.drop_duplicates(subset=['房屋ID'], keep='first')"
   ]
  },
  {
   "cell_type": "code",
   "execution_count": 201,
   "id": "c97d88c6-f5a3-4cf3-9cdf-bcbb01b64fb9",
   "metadata": {},
   "outputs": [],
   "source": [
    "# 转换卧室数量为整数\n",
    "df['卧室数量'] = df['卧室数量'].astype(int)\n",
    "pd.to_datetime(df['上次交易日期'])#将该列转换为 Datetime 类型\n",
    "# 处理日期列  year quater month dayofweek\n",
    "df['上次交易日期'] = pd.to_datetime(df['上次交易日期'])\n",
    "df['交易年份'] = df['上次交易日期'].dt.year\n",
    "df['交易季度'] = df['上次交易日期'].dt.quarter\n",
    "# 已在上一步添加了年份和季度\n",
    "df['交易月份'] = df['上次交易日期'].dt.month\n",
    "df['交易星期'] = df['上次交易日期'].dt.dayofweek  # 周一=0, 周日=6"
   ]
  },
  {
   "cell_type": "code",
   "execution_count": 203,
   "id": "8e355f2d-8380-4c9f-9c47-52f9403a66c2",
   "metadata": {},
   "outputs": [],
   "source": [
    "#编码方式\t优点\t                  缺点\t              适用场景\n",
    "#One-Hot\t无顺序假设，信息保留完整\t 维度膨胀（类别多时）\t 无序分类（如城市）\n",
    "#有序编码\t保留顺序关系，维度不变\t 需手动定义映射规则\t 有序分类（如楼层）\n",
    "#二进制编码\t简洁，直接转换为 0/1\t     仅适用于二分类\t     是否类变量（如电梯）"
   ]
  },
  {
   "cell_type": "code",
   "execution_count": 205,
   "id": "1b9add4b-899a-4c9c-a4bc-3cdca90a6041",
   "metadata": {},
   "outputs": [],
   "source": [
    "# 对地区进行one-hot编码 将地区列中的每个类别转换为“独立”的二进制列\n",
    "df = pd.get_dummies(df, columns=['地区'], prefix='地区')\n",
    "\n",
    "# 对楼层进行有序编码\n",
    "floor_mapping = {'低层': 1, '中层': 2, '高层': 3, '未知': 2}\n",
    "df['楼层编码'] = df['楼层'].map(floor_mapping)\n",
    "\n",
    "# 对是否有电梯进行二进制编码\n",
    "df['是否有电梯'] = df['是否有电梯'].map({'有': 1, '无': 0})"
   ]
  },
  {
   "cell_type": "code",
   "execution_count": 207,
   "id": "8bca9d03-daa2-48e5-bdee-69e11c2a8a51",
   "metadata": {},
   "outputs": [],
   "source": [
    "#创建新变量\n",
    "# 计算总价 .round(2)为保留两位小数\n",
    "df['总价(万元)'] = (df['建筑面积'] * df['单价(元/平米)'] / 10000).round(2)\n",
    "\n",
    "# 创建房龄分段\n",
    "#定义分段边界：bins 指定区间分割点（左开右闭）\n",
    "#定义标签：labels 对应每个区间的文字描述\n",
    "#pd.cut() 将连续房龄值映射到分段  将一维连续数据划分为离散的区间（分箱），每个区间用一个标签表示。\n",
    "bins = [0, 5, 10, 20, 30, 100]\n",
    "labels = ['0-5年', '6-10年', '11-20年', '21-30年', '30年以上']\n",
    "df['房龄分段'] = pd.cut(df['房龄'], bins=bins, labels=labels)\n",
    "\n",
    "# 创建地铁距离分段\n",
    "bins=[0, 500, 1000, 1500, 2000, 3000]\n",
    "labels=['0-500m', '501-1000m', '1001-1500m', '1501-2000m', '2001-3000m']\n",
    "df['地铁距离分段'] = pd.cut(df['地铁距离(米)'],bins=bins,labels=labels)"
   ]
  },
  {
   "cell_type": "code",
   "execution_count": 209,
   "id": "1eece11c-c29d-4ba7-a8e5-e515bf911c84",
   "metadata": {},
   "outputs": [
    {
     "name": "stdout",
     "output_type": "stream",
     "text": [
      "<class 'pandas.core.frame.DataFrame'>\n",
      "Index: 100 entries, 0 to 99\n",
      "Data columns (total 24 columns):\n",
      " #   Column    Non-Null Count  Dtype         \n",
      "---  ------    --------------  -----         \n",
      " 0   房屋ID      100 non-null    int64         \n",
      " 1   房龄        100 non-null    float64       \n",
      " 2   建筑面积      100 non-null    float64       \n",
      " 3   卧室数量      100 non-null    int32         \n",
      " 4   是否有电梯     90 non-null     float64       \n",
      " 5   楼层        100 non-null    object        \n",
      " 6   地铁距离(米)   100 non-null    int32         \n",
      " 7   学校评分      100 non-null    float64       \n",
      " 8   单价(元/平米)  100 non-null    float64       \n",
      " 9   上次交易日期    100 non-null    datetime64[ns]\n",
      " 10  交易年份      100 non-null    int32         \n",
      " 11  交易季度      100 non-null    int32         \n",
      " 12  交易月份      100 non-null    int32         \n",
      " 13  交易星期      100 non-null    int32         \n",
      " 14  地区_东城     100 non-null    bool          \n",
      " 15  地区_丰台     100 non-null    bool          \n",
      " 16  地区_昌平     100 non-null    bool          \n",
      " 17  地区_朝阳     100 non-null    bool          \n",
      " 18  地区_海淀     100 non-null    bool          \n",
      " 19  地区_西城     100 non-null    bool          \n",
      " 20  楼层编码      78 non-null     float64       \n",
      " 21  总价(万元)    100 non-null    float64       \n",
      " 22  房龄分段      100 non-null    category      \n",
      " 23  地铁距离分段    100 non-null    category      \n",
      "dtypes: bool(6), category(2), datetime64[ns](1), float64(7), int32(6), int64(1), object(1)\n",
      "memory usage: 12.1+ KB\n",
      "None\n",
      "             房屋ID          房龄        建筑面积       卧室数量      是否有电梯      地铁距离(米)  \\\n",
      "count  100.000000  100.000000  100.000000  100.00000  90.000000   100.000000   \n",
      "mean    50.500000   14.161427   93.009994    2.45000   0.700000  1496.190000   \n",
      "min      1.000000    1.000000   51.200000    1.00000   0.000000   209.000000   \n",
      "25%     25.750000    7.000000   77.675000    2.00000   0.000000   911.750000   \n",
      "50%     50.500000   12.500000   93.000000    2.00000   1.000000  1409.500000   \n",
      "75%     75.250000   23.000000  105.925000    3.00000   1.000000  2059.250000   \n",
      "max    100.000000   45.142655  206.899393    4.00000   1.000000  2999.000000   \n",
      "std     29.011492    9.409998   22.670203    1.05768   0.460825   795.128904   \n",
      "\n",
      "             学校评分       单价(元/平米)               上次交易日期         交易年份       交易季度  \\\n",
      "count  100.000000     100.000000                  100   100.000000  100.00000   \n",
      "mean     8.290000   58131.888557  2021-06-25 19:55:12  2021.000000    2.44000   \n",
      "min      7.000000    7506.609606  2020-01-05 00:00:00  2020.000000    1.00000   \n",
      "25%      8.000000   50131.500000  2020-10-21 18:00:00  2020.000000    2.00000   \n",
      "50%      8.500000   58313.500000  2021-07-31 00:00:00  2021.000000    2.00000   \n",
      "75%      9.000000   67416.000000  2022-04-01 18:00:00  2022.000000    3.00000   \n",
      "max      9.500000  110180.854311  2022-09-21 00:00:00  2022.000000    4.00000   \n",
      "std      0.835391   16075.115136                  NaN     0.828775    1.02809   \n",
      "\n",
      "             交易月份        交易星期       楼层编码       总价(万元)  \n",
      "count  100.000000  100.000000  78.000000   100.000000  \n",
      "mean     6.290000    2.940000   1.897436   536.663100  \n",
      "min      1.000000    0.000000   1.000000    81.300000  \n",
      "25%      4.000000    1.000000   1.000000   449.825000  \n",
      "50%      6.000000    3.000000   2.000000   525.245000  \n",
      "75%      9.000000    5.000000   3.000000   613.100000  \n",
      "max     12.000000    6.000000   3.000000  1051.770000  \n",
      "std      3.105209    2.097714   0.861737   182.363492  \n"
     ]
    }
   ],
   "source": [
    "# 检查清洗后的数据\n",
    "print(df.info())\n",
    "print(df.describe())"
   ]
  },
  {
   "cell_type": "code",
   "execution_count": 211,
   "id": "78a3edca-e3c5-4ef2-8a8a-8c5cbcc5cb11",
   "metadata": {},
   "outputs": [],
   "source": [
    "# 保存清洗后的数据\n",
    "df.to_csv('house_price_cleaned.csv', index=False, encoding='utf-8-sig')"
   ]
  }
 ],
 "metadata": {
  "kernelspec": {
   "display_name": "Python 3 (ipykernel)",
   "language": "python",
   "name": "python3"
  },
  "language_info": {
   "codemirror_mode": {
    "name": "ipython",
    "version": 3
   },
   "file_extension": ".py",
   "mimetype": "text/x-python",
   "name": "python",
   "nbconvert_exporter": "python",
   "pygments_lexer": "ipython3",
   "version": "3.12.7"
  }
 },
 "nbformat": 4,
 "nbformat_minor": 5
}
